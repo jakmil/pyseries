{
 "cells": [
  {
   "cell_type": "code",
   "execution_count": 10,
   "metadata": {
    "collapsed": false
   },
   "outputs": [
    {
     "name": "stdout",
     "output_type": "stream",
     "text": [
      "The autoreload extension is already loaded. To reload it, use:\n",
      "  %reload_ext autoreload\n"
     ]
    }
   ],
   "source": [
    "# Notebook settings (i.e. this thing settings) \n",
    "%matplotlib inline\n",
    "#%matplotlib notebook \n",
    "#Change to %matplotlib notebook to be able to zoom, pan, etc the figures,\n",
    "#inline is only used so the notebook can be exported to .rst format and hosted on readthedocs\n",
    "%load_ext autoreload\n",
    "%autoreload 2 "
   ]
  },
  {
   "cell_type": "code",
   "execution_count": 11,
   "metadata": {
    "collapsed": true
   },
   "outputs": [],
   "source": [
    "# Documentation at: http://pyseries.readthedocs.io/en/latest/\n",
    "\n",
    "# To use last version of pyseries enter in the terminal (pip installation: https://pip.pypa.io/en/stable/installing/)\n",
    "# >>> pip install pyseries \n",
    "\n",
    "# To use use pyseries locally from downloaded github repo (when you want to make changes to source code),\n",
    "# 1) pip uninstall pyseries \n",
    "# 2) checkout https://github.com/ryscet/pyseries.git (tutorial: https://help.github.com/articles/fetching-a-remote/)\n",
    "# 3) uncomment below and put a correct path \n",
    "\n",
    "#import sys\n",
    "#sys.path.insert(0, '/Users/user/Desktop/repo_for_pyseries/pyseries/')"
   ]
  },
  {
   "cell_type": "code",
   "execution_count": 12,
   "metadata": {
    "collapsed": false
   },
   "outputs": [],
   "source": [
    "import pyseries.LoadingData as loading\n",
    "import pyseries.Preprocessing as prep\n",
    "import pyseries.Analysis as analysis"
   ]
  },
  {
   "cell_type": "code",
   "execution_count": 13,
   "metadata": {
    "collapsed": false
   },
   "outputs": [
    {
     "name": "stdout",
     "output_type": "stream",
     "text": [
      "Channels:\n",
      "EEG F3\n",
      "EEG F4\n",
      "EEG C3\n",
      "EEG C4\n",
      "EEG P3\n",
      "EEG P4\n",
      "EEG O1\n",
      "EEG O2\n",
      "EEG A2\n",
      "EEG Cz\n"
     ]
    }
   ],
   "source": [
    "channels = loading.Read_edf.Combine_EDF_XML('/Users/user/Desktop/Nagrania/rest/Rysiek_03_06/',True)\n",
    "\n",
    "n_samples_back = {\"Eyes Open\": 0, \"Eyes Closed\": 0}\n",
    "n_samples_forth = {\"Eyes Open\":  500* 140, \"Eyes Closed\":  500* 140}\n",
    "\n",
    "slices = prep.Epochs.Make_Epochs_for_Channels(channels, ['EEG O1', 'EEG O2',  'EEG P3', 'EEG C4', 'EEG P4'],n_samples_back, n_samples_forth)"
   ]
  },
  {
   "cell_type": "code",
   "execution_count": 14,
   "metadata": {
    "collapsed": false
   },
   "outputs": [
    {
     "data": {
      "image/png": "[encoded data removed]",
      "text/plain": [
       "<matplotlib.figure.Figure at 0x114751908>"
      ]
     },
     "metadata": {},
     "output_type": "display_data"
    },
    {
     "data": {
      "image/png": "[encoded data removed]",
      "text/plain": [
       "<matplotlib.figure.Figure at 0x114726a90>"
      ]
     },
     "metadata": {},
     "output_type": "display_data"
    }
   ],
   "source": [
    "prep.Epochs.mark_events(channels, ['EEG O1', 'EEG A2'])\n"
   ]
  },
  {
   "cell_type": "code",
   "execution_count": 15,
   "metadata": {
    "collapsed": false
   },
   "outputs": [
    {
     "ename": "NameError",
     "evalue": "name 'slices' is not defined",
     "output_type": "error",
     "traceback": [
      "\u001b[0;31m---------------------------------------------------------------------------\u001b[0m",
      "\u001b[0;31mNameError\u001b[0m                                 Traceback (most recent call last)",
      "\u001b[0;32m<ipython-input-15-1536ed4fba69>\u001b[0m in \u001b[0;36m<module>\u001b[0;34m()\u001b[0m\n\u001b[0;32m----> 1\u001b[0;31m \u001b[0mf\u001b[0m\u001b[0;34m,\u001b[0m \u001b[0mpxx\u001b[0m \u001b[0;34m=\u001b[0m \u001b[0manalysis\u001b[0m\u001b[0;34m.\u001b[0m\u001b[0mExplore\u001b[0m\u001b[0;34m.\u001b[0m\u001b[0mPlotPowerSpectrum\u001b[0m\u001b[0;34m(\u001b[0m\u001b[0mslices\u001b[0m\u001b[0;34m[\u001b[0m\u001b[0;34m'EEG O1'\u001b[0m\u001b[0;34m]\u001b[0m\u001b[0;34m)\u001b[0m\u001b[0;34m\u001b[0m\u001b[0m\n\u001b[0m",
      "\u001b[0;31mNameError\u001b[0m: name 'slices' is not defined"
     ]
    }
   ],
   "source": [
    "f, pxx = analysis.Explore.PlotPowerSpectrum(slices['EEG O1'])"
   ]
  },
  {
   "cell_type": "code",
   "execution_count": null,
   "metadata": {
    "collapsed": true
   },
   "outputs": [],
   "source": []
  },
  {
   "cell_type": "code",
   "execution_count": null,
   "metadata": {
    "collapsed": true
   },
   "outputs": [],
   "source": []
  }
 ],
 "metadata": {
  "kernelspec": {
   "display_name": "Python 3",
   "language": "python",
   "name": "python3"
  },
  "language_info": {
   "codemirror_mode": {
    "name": "ipython",
    "version": 3
   },
   "file_extension": ".py",
   "mimetype": "text/x-python",
   "name": "python",
   "nbconvert_exporter": "python",
   "pygments_lexer": "ipython3",
   "version": "3.5.1"
  }
 },
 "nbformat": 4,
 "nbformat_minor": 0
}
